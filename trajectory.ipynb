{
 "cells": [
  {
   "cell_type": "code",
   "execution_count": 1,
   "metadata": {},
   "outputs": [],
   "source": [
    "import numpy as np\n",
    "import matplotlib.pyplot as plt\n",
    "import math"
   ]
  },
  {
   "cell_type": "code",
   "execution_count": 29,
   "metadata": {},
   "outputs": [
    {
     "name": "stdout",
     "output_type": "stream",
     "text": [
      "[(0.06902113032590307, 0.07618033988749895), (0.06618033988749895, 0.08175570504584947), (0.06175570504584947, 0.08618033988749896), (0.05618033988749895, 0.08902113032590309), (0.05, 0.09000000000000001), (0.043819660112501053, 0.08902113032590309), (0.03824429495415054, 0.08618033988749896), (0.03381966011250105, 0.08175570504584947), (0.03097886967409693, 0.07618033988749896), (0.030000000000000002, 0.07)]\n"
     ]
    },
    {
     "data": {
      "text/plain": [
       "<matplotlib.collections.PathCollection at 0xb25a77ef0>"
      ]
     },
     "execution_count": 29,
     "metadata": {},
     "output_type": "execute_result"
    },
    {
     "data": {
      "image/png": "[encoded data removed]",
      "text/plain": [
       "<Figure size 432x288 with 1 Axes>"
      ]
     },
     "metadata": {
      "needs_background": "light"
     },
     "output_type": "display_data"
    }
   ],
   "source": [
    "error = 0.1\n",
    "x0 = 1\n",
    "y0 = 1\n",
    "r0 = 0.5\n",
    "\n",
    "obstacles = [(0.06, 0.045)]\n",
    "\n",
    "def get_points_around_ob(radius, ob_center, start_pt, end_pt):\n",
    "    path = []\n",
    "    d = 10\n",
    "    intervals = math.pi / d\n",
    "    angle = 0\n",
    "    for i in range(d):\n",
    "        angle+=intervals\n",
    "        path.append(((ob_center[0]+(radius*np.cos(angle))),(ob_center[1]+(radius*np.sin(angle)))))\n",
    "    \n",
    "    return path    \n",
    "   \n",
    "for o in obstacles :\n",
    "    (get_points_around_ob(0.02, (0.05, 0.07), (0.02, 0.07), (0.08, 0.07)))\n",
    "#insert intermediate waypoints from navigating around the obstacle\n",
    "\n",
    "#slicing \n",
    "\n",
    "x = [0.01, 0.02, 0.03, 0.06, 0.07]\n",
    "y = [0.02, 0.05, 0.07, 0.04, 0.02]\n",
    "\n",
    "#inputted waypts\n",
    "plt.scatter(x, y, color='blue', label='given')\n",
    "\n",
    "'''\n",
    "if an obstacle exists on the interpolated path within some \n",
    "error margin [RADIUS OF OBJECT], route around it within those 2 way pts, use them as start and end\n",
    "'''\n",
    "\n"
   ]
  },
  {
   "cell_type": "code",
   "execution_count": 35,
   "metadata": {},
   "outputs": [
    {
     "name": "stdout",
     "output_type": "stream",
     "text": [
      "([0.01, 0.02], array([0.02, 0.05]))\n",
      "([0.02, 0.03], array([0.05, 0.07]))\n",
      "([0.03, 0.06], array([0.07, 0.04]))\n",
      "([0.06, 0.07], array([0.04, 0.02]))\n"
     ]
    }
   ],
   "source": [
    "from scipy.interpolate import *\n",
    "\n",
    "from scipy.interpolate import CubicSpline\n",
    "\n",
    "for i in range(0, len(x)-1):\n",
    "    cs = CubicSpline(x[i:i+2], y[i:i+2])\n",
    "    #plt.plot(x[i:i+2], cs(x[i:i+2]), label=\"S\")\n",
    "    print((x[i:i+2], cs(x[i:i+2])))\n",
    "    plt.show()"
   ]
  },
  {
   "cell_type": "code",
   "execution_count": null,
   "metadata": {},
   "outputs": [],
   "source": []
  }
 ],
 "metadata": {
  "kernelspec": {
   "display_name": "Python 3",
   "language": "python",
   "name": "python3"
  },
  "language_info": {
   "codemirror_mode": {
    "name": "ipython",
    "version": 3
   },
   "file_extension": ".py",
   "mimetype": "text/x-python",
   "name": "python",
   "nbconvert_exporter": "python",
   "pygments_lexer": "ipython3",
   "version": "3.7.1"
  }
 },
 "nbformat": 4,
 "nbformat_minor": 2
}
